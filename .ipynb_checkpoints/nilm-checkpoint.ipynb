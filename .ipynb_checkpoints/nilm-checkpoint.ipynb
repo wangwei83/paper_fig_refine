{
 "cells": [
  {
   "cell_type": "code",
   "execution_count": null,
   "metadata": {},
   "outputs": [],
   "source": [
    "# 将数据集 1_NILM_"
   ]
  },
  {
   "cell_type": "code",
   "execution_count": null,
   "metadata": {},
   "outputs": [],
   "source": [
    "import matplotlib.pylab as plt\n",
    "import pandas\n",
    "\n",
    "START = 100\n",
    "LENGTH = 1500\n",
    "df = pandas.read_csv(\"E:\\BaiduNetdiskDownload\\dataverse_files\\B1E.csv\")\n",
    "xlist = df.TS.to_list()[START:LENGTH]\n",
    "ylist = df.S.to_list()[START:LENGTH]\n",
    "\n",
    "df1 = pandas.read_csv(\"E:\\BaiduNetdiskDownload\\dataverse_files\\B2E.csv\")\n",
    "ylist1 = df1.S.to_list()[START:LENGTH]\n",
    "\n",
    "df2 = pandas.read_csv(\"E:\\BaiduNetdiskDownload\\dataverse_files\\BME.csv\")\n",
    "ylist2 = df2.S.to_list()[START:LENGTH]\n",
    "\n",
    "df3 = pandas.read_csv(\"E:\\BaiduNetdiskDownload\\dataverse_files\\CDE.csv\")\n",
    "ylist3 = df3.S.to_list()[START:LENGTH]\n",
    "\n",
    "yjson = {\n",
    "    \"B1E\":ylist,\n",
    "    \"B2E\":ylist1,\n",
    "    \"BME\":ylist2,\n",
    "    \"CDE\":ylist3,\n",
    "}\n",
    "\n",
    "fig1, ax1 =plt.subplots(figsize=(15,8))\n",
    "ax1.stackplot(xlist, yjson.values(),\n",
    "             labels=yjson.keys())\n",
    "plt.legend()\n",
    "plt.savefig(\"nilm.jpg\")"
   ]
  }
 ],
 "metadata": {
  "kernelspec": {
   "display_name": "Python 3 (ipykernel)",
   "language": "python",
   "name": "python3"
  },
  "language_info": {
   "codemirror_mode": {
    "name": "ipython",
    "version": 3
   },
   "file_extension": ".py",
   "mimetype": "text/x-python",
   "name": "python",
   "nbconvert_exporter": "python",
   "pygments_lexer": "ipython3",
   "version": "3.9.6"
  }
 },
 "nbformat": 4,
 "nbformat_minor": 1
}
